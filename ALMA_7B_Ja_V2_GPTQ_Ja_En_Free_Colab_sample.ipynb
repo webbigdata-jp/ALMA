{
  "cells": [
    {
      "cell_type": "markdown",
      "metadata": {
        "id": "view-in-github",
        "colab_type": "text"
      },
      "source": [
        "<a href=\"https://colab.research.google.com/github/webbigdata-jp/ALMA/blob/master/ALMA_7B_Ja_V2_GPTQ_Ja_En_Free_Colab_sample.ipynb\" target=\"_parent\"><img src=\"https://colab.research.google.com/assets/colab-badge.svg\" alt=\"Open In Colab\"/></a>"
      ]
    },
    {
      "cell_type": "markdown",
      "metadata": {
        "id": "9tCLTsfT_qgA"
      },
      "source": [
        "Original Model ALMA-7B.  (26.95GB)  \n",
        "https://huggingface.co/haoranxu/ALMA-7B  \n",
        "\n",
        "ALMA-7B-Ja-V2 is a further improved version of model [ALMA-7B-Ja](https://huggingface.co/webbigdata/ALMA-7B-Ja) that performs machine translation from Japanese to English (13.3 GB).  \n",
        "https://huggingface.co/webbigdata/ALMA-7B-Ja-V2\n",
        "\n",
        "ALMA-7B-Ja-V2-GPTQ-Ja-En is a quantized(miniaturized) version of the ALMA-7B-Ja-V2 model.(3.9GB)  \n",
        "https://huggingface.co/webbigdata/ALMA-7B-Ja-V2-GPTQ-Ja-En"
      ]
    },
    {
      "cell_type": "code",
      "execution_count": null,
      "metadata": {
        "id": "ygJ-cNOc_qTi"
      },
      "outputs": [],
      "source": [
        "%%bash\n",
        "pip install auto-gptq"
      ]
    },
    {
      "cell_type": "code",
      "execution_count": null,
      "metadata": {
        "id": "UewwoJ2FAOP4"
      },
      "outputs": [],
      "source": [
        "import torch\n",
        "from transformers import AutoTokenizer\n",
        "from auto_gptq import AutoGPTQForCausalLM\n",
        "\n",
        "quantized_model_dir = \"webbigdata/ALMA-7B-Ja-V2-GPTQ-Ja-En\"\n",
        "model_basename = \"gptq_model-4bit-128g\"\n",
        "\n",
        "tokenizer = AutoTokenizer.from_pretrained(quantized_model_dir)\n",
        "\n",
        "model = AutoGPTQForCausalLM.from_quantized(\n",
        "        quantized_model_dir,\n",
        "        model_basename=model_basename,\n",
        "        use_safetensors=True,\n",
        "        device=\"cuda:0\")\n",
        "\n",
        "prompt1=\"Translate this from Japanese to English:\\nJapanese: 量子化するとモデルの性能はどのくらい劣化してしまうのでしょうか？\\nEnglish:\"\n",
        "input_ids = tokenizer(prompt1, return_tensors=\"pt\", padding=True, max_length=200, truncation=True).input_ids.cuda()\n",
        "\n",
        "# Translation\n",
        "with torch.no_grad():\n",
        "    generated_ids = model.generate(input_ids=input_ids, num_beams=5, max_new_tokens=250, do_sample=True, temperature=0.6, top_p=0.9)\n",
        "outputs = tokenizer.batch_decode(generated_ids, skip_special_tokens=True)\n",
        "print(outputs)\n",
        "\n",
        "prompt2=\"Translate this from English to Japanese:\\nEnglish: I hope that this quantization model will be useful to people.?\\nJapanese:\"\n",
        "input_ids = tokenizer(prompt2, return_tensors=\"pt\", padding=True, max_length=200, truncation=True).input_ids.cuda()\n",
        "with torch.no_grad():\n",
        "    generated_ids = model.generate(input_ids=input_ids, num_beams=5, max_new_tokens=250, do_sample=True, temperature=0.6, top_p=0.9)\n",
        "outputs = tokenizer.batch_decode(generated_ids, skip_special_tokens=True)\n",
        "print(outputs)\n",
        "\n"
      ]
    }
  ],
  "metadata": {
    "accelerator": "GPU",
    "colab": {
      "provenance": [],
      "gpuType": "T4",
      "mount_file_id": "1RgbYSzxcfWyYSgfiOoPy30SBrRS5k1Rl",
      "authorship_tag": "ABX9TyO7BDeUQRUKYuRIiuyxbUsm",
      "include_colab_link": true
    },
    "kernelspec": {
      "display_name": "Python 3",
      "name": "python3"
    },
    "language_info": {
      "name": "python"
    }
  },
  "nbformat": 4,
  "nbformat_minor": 0
}